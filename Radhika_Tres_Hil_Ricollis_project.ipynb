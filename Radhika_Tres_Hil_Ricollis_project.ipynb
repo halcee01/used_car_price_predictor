{
 "cells": [
  {
   "cell_type": "markdown",
   "metadata": {},
   "source": [
    "# Final Project w207: Radhika, Tres, Hil, Ricollis"
   ]
  },
  {
   "cell_type": "code",
   "execution_count": 100,
   "metadata": {
    "id": "bZPOuoaf-ljG"
   },
   "outputs": [],
   "source": [
    "# General libraries.\n",
    "import re\n",
    "import numpy as np\n",
    "import pandas as pd\n",
    "import seaborn as sns\n",
    "import matplotlib.pyplot as plt\n",
    "\n",
    "# SK-learn libraries for learning.\n",
    "from sklearn.pipeline import Pipeline\n",
    "from sklearn.neighbors import KNeighborsClassifier\n",
    "from sklearn.linear_model import LogisticRegression\n",
    "from sklearn.naive_bayes import BernoulliNB\n",
    "from sklearn.naive_bayes import MultinomialNB\n",
    "\n",
    "# SK-learn libraries for evaluation.\n",
    "from sklearn.metrics import confusion_matrix\n",
    "from sklearn import metrics\n",
    "from sklearn.metrics import classification_report\n",
    "\n",
    "# SK-learn library for importing the newsgroup data.\n",
    "from sklearn.datasets import fetch_20newsgroups\n",
    "\n",
    "# SK-learn libraries for feature extraction from text.\n",
    "from sklearn.feature_extraction.text import *\n",
    "\n",
    "import nltk"
   ]
  },
  {
   "cell_type": "markdown",
   "metadata": {
    "id": "XWlSDTd_DFb5"
   },
   "source": [
    "### Reading car CSV data"
   ]
  },
  {
   "cell_type": "code",
   "execution_count": 101,
   "metadata": {
    "colab": {
     "base_uri": "https://localhost:8080/",
     "height": 958
    },
    "id": "ChTPGFo1CwJ6",
    "outputId": "7e7e46df-370b-4720-a181-57a11b8d9785"
   },
   "outputs": [],
   "source": [
    "df = pd.read_csv('vehicles.csv',engine='python', error_bad_lines=False)"
   ]
  },
  {
   "cell_type": "markdown",
   "metadata": {},
   "source": [
    "### EDA: basic exploration/ changing data types/dropping unnecessary columns"
   ]
  },
  {
   "cell_type": "code",
   "execution_count": 102,
   "metadata": {
    "colab": {
     "base_uri": "https://localhost:8080/",
     "height": 919
    },
    "id": "L5BmviYxEzaO",
    "outputId": "9268978d-4ce8-431a-f4a0-d893b90bf849"
   },
   "outputs": [
    {
     "data": {
      "text/html": [
       "<div>\n",
       "<style scoped>\n",
       "    .dataframe tbody tr th:only-of-type {\n",
       "        vertical-align: middle;\n",
       "    }\n",
       "\n",
       "    .dataframe tbody tr th {\n",
       "        vertical-align: top;\n",
       "    }\n",
       "\n",
       "    .dataframe thead th {\n",
       "        text-align: right;\n",
       "    }\n",
       "</style>\n",
       "<table border=\"1\" class=\"dataframe\">\n",
       "  <thead>\n",
       "    <tr style=\"text-align: right;\">\n",
       "      <th></th>\n",
       "      <th>id</th>\n",
       "      <th>url</th>\n",
       "      <th>region</th>\n",
       "      <th>region_url</th>\n",
       "      <th>price</th>\n",
       "      <th>year</th>\n",
       "      <th>manufacturer</th>\n",
       "      <th>model</th>\n",
       "      <th>condition</th>\n",
       "      <th>cylinders</th>\n",
       "      <th>...</th>\n",
       "      <th>size</th>\n",
       "      <th>type</th>\n",
       "      <th>paint_color</th>\n",
       "      <th>image_url</th>\n",
       "      <th>description</th>\n",
       "      <th>county</th>\n",
       "      <th>state</th>\n",
       "      <th>lat</th>\n",
       "      <th>long</th>\n",
       "      <th>posting_date</th>\n",
       "    </tr>\n",
       "  </thead>\n",
       "  <tbody>\n",
       "    <tr>\n",
       "      <th>252045</th>\n",
       "      <td>7306440289</td>\n",
       "      <td>https://cnj.craigslist.org/ctd/d/farmingdale-2...</td>\n",
       "      <td>central NJ</td>\n",
       "      <td>https://cnj.craigslist.org</td>\n",
       "      <td>21495</td>\n",
       "      <td>2018.0</td>\n",
       "      <td>chrysler</td>\n",
       "      <td>300</td>\n",
       "      <td>NaN</td>\n",
       "      <td>NaN</td>\n",
       "      <td>...</td>\n",
       "      <td>NaN</td>\n",
       "      <td>NaN</td>\n",
       "      <td>NaN</td>\n",
       "      <td>https://images.craigslist.org/00D0D_k0WKvGn9Z0...</td>\n",
       "      <td>2018 Chrysler 300 CALL Automotive Avenues: (73...</td>\n",
       "      <td>NaN</td>\n",
       "      <td>nj</td>\n",
       "      <td>40.204300</td>\n",
       "      <td>-74.177900</td>\n",
       "      <td>2021-04-13T19:16:21-0400</td>\n",
       "    </tr>\n",
       "    <tr>\n",
       "      <th>420010</th>\n",
       "      <td>7315107178</td>\n",
       "      <td>https://madison.craigslist.org/ctd/d/eau-clair...</td>\n",
       "      <td>madison</td>\n",
       "      <td>https://madison.craigslist.org</td>\n",
       "      <td>29950</td>\n",
       "      <td>2012.0</td>\n",
       "      <td>porsche</td>\n",
       "      <td>cayenne turbo awd</td>\n",
       "      <td>NaN</td>\n",
       "      <td>NaN</td>\n",
       "      <td>...</td>\n",
       "      <td>NaN</td>\n",
       "      <td>NaN</td>\n",
       "      <td>NaN</td>\n",
       "      <td>https://images.craigslist.org/00N0N_dXj8gZMA1G...</td>\n",
       "      <td>2012 Porsche Cayenne Turbo AWD ✔  We TAKE TRAD...</td>\n",
       "      <td>NaN</td>\n",
       "      <td>wi</td>\n",
       "      <td>44.834600</td>\n",
       "      <td>-91.515900</td>\n",
       "      <td>2021-04-30T19:04:57-0500</td>\n",
       "    </tr>\n",
       "    <tr>\n",
       "      <th>284070</th>\n",
       "      <td>7314492417</td>\n",
       "      <td>https://nh.craigslist.org/cto/d/manchester-bui...</td>\n",
       "      <td>new hampshire</td>\n",
       "      <td>https://nh.craigslist.org</td>\n",
       "      <td>2300</td>\n",
       "      <td>2003.0</td>\n",
       "      <td>buick</td>\n",
       "      <td>rendezvous</td>\n",
       "      <td>good</td>\n",
       "      <td>6 cylinders</td>\n",
       "      <td>...</td>\n",
       "      <td>full-size</td>\n",
       "      <td>SUV</td>\n",
       "      <td>custom</td>\n",
       "      <td>https://images.craigslist.org/00Y0Y_a9yZhZ3E0s...</td>\n",
       "      <td>Family suv start right up run and drive it ver...</td>\n",
       "      <td>NaN</td>\n",
       "      <td>nh</td>\n",
       "      <td>42.965600</td>\n",
       "      <td>-71.449300</td>\n",
       "      <td>2021-04-29T16:06:48-0400</td>\n",
       "    </tr>\n",
       "    <tr>\n",
       "      <th>369904</th>\n",
       "      <td>7316095184</td>\n",
       "      <td>https://dallas.craigslist.org/ftw/ctd/d/fort-w...</td>\n",
       "      <td>dallas / fort worth</td>\n",
       "      <td>https://dallas.craigslist.org</td>\n",
       "      <td>12996</td>\n",
       "      <td>2016.0</td>\n",
       "      <td>chevrolet</td>\n",
       "      <td>cruze limited</td>\n",
       "      <td>NaN</td>\n",
       "      <td>4 cylinders</td>\n",
       "      <td>...</td>\n",
       "      <td>compact</td>\n",
       "      <td>sedan</td>\n",
       "      <td>grey</td>\n",
       "      <td>https://images.craigslist.org/01515_IIdkkpkmnn...</td>\n",
       "      <td>Most common questions about this vehicle:  Wan...</td>\n",
       "      <td>NaN</td>\n",
       "      <td>tx</td>\n",
       "      <td>32.975361</td>\n",
       "      <td>-97.310486</td>\n",
       "      <td>2021-05-03T03:14:15-0500</td>\n",
       "    </tr>\n",
       "    <tr>\n",
       "      <th>133404</th>\n",
       "      <td>7312402346</td>\n",
       "      <td>https://boise.craigslist.org/ctd/d/ontario-201...</td>\n",
       "      <td>boise</td>\n",
       "      <td>https://boise.craigslist.org</td>\n",
       "      <td>39694</td>\n",
       "      <td>2015.0</td>\n",
       "      <td>toyota</td>\n",
       "      <td>tundra</td>\n",
       "      <td>NaN</td>\n",
       "      <td>8 cylinders</td>\n",
       "      <td>...</td>\n",
       "      <td>NaN</td>\n",
       "      <td>truck</td>\n",
       "      <td>silver</td>\n",
       "      <td>https://images.craigslist.org/00O0O_939YnqNvlL...</td>\n",
       "      <td>2015 Toyota Tundra LTD -- $39,694       ☎ Call...</td>\n",
       "      <td>NaN</td>\n",
       "      <td>id</td>\n",
       "      <td>44.024289</td>\n",
       "      <td>-116.991239</td>\n",
       "      <td>2021-04-25T11:30:21-0600</td>\n",
       "    </tr>\n",
       "    <tr>\n",
       "      <th>238357</th>\n",
       "      <td>7304158757</td>\n",
       "      <td>https://greensboro.craigslist.org/ctd/d/greens...</td>\n",
       "      <td>greensboro</td>\n",
       "      <td>https://greensboro.craigslist.org</td>\n",
       "      <td>24590</td>\n",
       "      <td>2018.0</td>\n",
       "      <td>bmw</td>\n",
       "      <td>3 series 330i xdrive sedan</td>\n",
       "      <td>good</td>\n",
       "      <td>NaN</td>\n",
       "      <td>...</td>\n",
       "      <td>NaN</td>\n",
       "      <td>sedan</td>\n",
       "      <td>black</td>\n",
       "      <td>https://images.craigslist.org/01212_ksMbsNE6b2...</td>\n",
       "      <td>Carvana is the safer way to buy a car During t...</td>\n",
       "      <td>NaN</td>\n",
       "      <td>nc</td>\n",
       "      <td>36.070000</td>\n",
       "      <td>-79.820000</td>\n",
       "      <td>2021-04-09T11:11:26-0400</td>\n",
       "    </tr>\n",
       "    <tr>\n",
       "      <th>390244</th>\n",
       "      <td>7304310541</td>\n",
       "      <td>https://danville.craigslist.org/ctd/d/lynchbur...</td>\n",
       "      <td>danville</td>\n",
       "      <td>https://danville.craigslist.org</td>\n",
       "      <td>0</td>\n",
       "      <td>2018.0</td>\n",
       "      <td>nissan</td>\n",
       "      <td>altima</td>\n",
       "      <td>NaN</td>\n",
       "      <td>NaN</td>\n",
       "      <td>...</td>\n",
       "      <td>NaN</td>\n",
       "      <td>NaN</td>\n",
       "      <td>NaN</td>\n",
       "      <td>https://images.craigslist.org/00r0r_f0fSPwLHiJ...</td>\n",
       "      <td>Terry Clearance Center You'll Love Our Cars! C...</td>\n",
       "      <td>NaN</td>\n",
       "      <td>va</td>\n",
       "      <td>37.379740</td>\n",
       "      <td>-79.247070</td>\n",
       "      <td>2021-04-09T15:04:21-0400</td>\n",
       "    </tr>\n",
       "    <tr>\n",
       "      <th>110246</th>\n",
       "      <td>7307669867</td>\n",
       "      <td>https://sarasota.craigslist.org/ctd/d/sarasota...</td>\n",
       "      <td>sarasota-bradenton</td>\n",
       "      <td>https://sarasota.craigslist.org</td>\n",
       "      <td>13688</td>\n",
       "      <td>2012.0</td>\n",
       "      <td>honda</td>\n",
       "      <td>odyssey</td>\n",
       "      <td>NaN</td>\n",
       "      <td>NaN</td>\n",
       "      <td>...</td>\n",
       "      <td>NaN</td>\n",
       "      <td>mini-van</td>\n",
       "      <td>NaN</td>\n",
       "      <td>https://images.craigslist.org/00t0t_3h3aUiwKgS...</td>\n",
       "      <td>2012 Honda ODYSSEY EX-L LEATHER CAMERA FL MINI...</td>\n",
       "      <td>NaN</td>\n",
       "      <td>fl</td>\n",
       "      <td>27.269770</td>\n",
       "      <td>-82.482290</td>\n",
       "      <td>2021-04-16T10:04:21-0400</td>\n",
       "    </tr>\n",
       "  </tbody>\n",
       "</table>\n",
       "<p>8 rows × 26 columns</p>\n",
       "</div>"
      ],
      "text/plain": [
       "                id                                                url  \\\n",
       "252045  7306440289  https://cnj.craigslist.org/ctd/d/farmingdale-2...   \n",
       "420010  7315107178  https://madison.craigslist.org/ctd/d/eau-clair...   \n",
       "284070  7314492417  https://nh.craigslist.org/cto/d/manchester-bui...   \n",
       "369904  7316095184  https://dallas.craigslist.org/ftw/ctd/d/fort-w...   \n",
       "133404  7312402346  https://boise.craigslist.org/ctd/d/ontario-201...   \n",
       "238357  7304158757  https://greensboro.craigslist.org/ctd/d/greens...   \n",
       "390244  7304310541  https://danville.craigslist.org/ctd/d/lynchbur...   \n",
       "110246  7307669867  https://sarasota.craigslist.org/ctd/d/sarasota...   \n",
       "\n",
       "                     region                         region_url  price    year  \\\n",
       "252045           central NJ         https://cnj.craigslist.org  21495  2018.0   \n",
       "420010              madison     https://madison.craigslist.org  29950  2012.0   \n",
       "284070        new hampshire          https://nh.craigslist.org   2300  2003.0   \n",
       "369904  dallas / fort worth      https://dallas.craigslist.org  12996  2016.0   \n",
       "133404                boise       https://boise.craigslist.org  39694  2015.0   \n",
       "238357           greensboro  https://greensboro.craigslist.org  24590  2018.0   \n",
       "390244             danville    https://danville.craigslist.org      0  2018.0   \n",
       "110246   sarasota-bradenton    https://sarasota.craigslist.org  13688  2012.0   \n",
       "\n",
       "       manufacturer                       model condition    cylinders  ...  \\\n",
       "252045     chrysler                         300       NaN          NaN  ...   \n",
       "420010      porsche           cayenne turbo awd       NaN          NaN  ...   \n",
       "284070        buick                  rendezvous      good  6 cylinders  ...   \n",
       "369904    chevrolet               cruze limited       NaN  4 cylinders  ...   \n",
       "133404       toyota                      tundra       NaN  8 cylinders  ...   \n",
       "238357          bmw  3 series 330i xdrive sedan      good          NaN  ...   \n",
       "390244       nissan                      altima       NaN          NaN  ...   \n",
       "110246        honda                     odyssey       NaN          NaN  ...   \n",
       "\n",
       "             size      type paint_color  \\\n",
       "252045        NaN       NaN         NaN   \n",
       "420010        NaN       NaN         NaN   \n",
       "284070  full-size       SUV      custom   \n",
       "369904    compact     sedan        grey   \n",
       "133404        NaN     truck      silver   \n",
       "238357        NaN     sedan       black   \n",
       "390244        NaN       NaN         NaN   \n",
       "110246        NaN  mini-van         NaN   \n",
       "\n",
       "                                                image_url  \\\n",
       "252045  https://images.craigslist.org/00D0D_k0WKvGn9Z0...   \n",
       "420010  https://images.craigslist.org/00N0N_dXj8gZMA1G...   \n",
       "284070  https://images.craigslist.org/00Y0Y_a9yZhZ3E0s...   \n",
       "369904  https://images.craigslist.org/01515_IIdkkpkmnn...   \n",
       "133404  https://images.craigslist.org/00O0O_939YnqNvlL...   \n",
       "238357  https://images.craigslist.org/01212_ksMbsNE6b2...   \n",
       "390244  https://images.craigslist.org/00r0r_f0fSPwLHiJ...   \n",
       "110246  https://images.craigslist.org/00t0t_3h3aUiwKgS...   \n",
       "\n",
       "                                              description county state  \\\n",
       "252045  2018 Chrysler 300 CALL Automotive Avenues: (73...    NaN    nj   \n",
       "420010  2012 Porsche Cayenne Turbo AWD ✔  We TAKE TRAD...    NaN    wi   \n",
       "284070  Family suv start right up run and drive it ver...    NaN    nh   \n",
       "369904  Most common questions about this vehicle:  Wan...    NaN    tx   \n",
       "133404  2015 Toyota Tundra LTD -- $39,694       ☎ Call...    NaN    id   \n",
       "238357  Carvana is the safer way to buy a car During t...    NaN    nc   \n",
       "390244  Terry Clearance Center You'll Love Our Cars! C...    NaN    va   \n",
       "110246  2012 Honda ODYSSEY EX-L LEATHER CAMERA FL MINI...    NaN    fl   \n",
       "\n",
       "              lat        long              posting_date  \n",
       "252045  40.204300  -74.177900  2021-04-13T19:16:21-0400  \n",
       "420010  44.834600  -91.515900  2021-04-30T19:04:57-0500  \n",
       "284070  42.965600  -71.449300  2021-04-29T16:06:48-0400  \n",
       "369904  32.975361  -97.310486  2021-05-03T03:14:15-0500  \n",
       "133404  44.024289 -116.991239  2021-04-25T11:30:21-0600  \n",
       "238357  36.070000  -79.820000  2021-04-09T11:11:26-0400  \n",
       "390244  37.379740  -79.247070  2021-04-09T15:04:21-0400  \n",
       "110246  27.269770  -82.482290  2021-04-16T10:04:21-0400  \n",
       "\n",
       "[8 rows x 26 columns]"
      ]
     },
     "execution_count": 102,
     "metadata": {},
     "output_type": "execute_result"
    }
   ],
   "source": [
    "#randomly sample data \n",
    "df.sample(8)"
   ]
  },
  {
   "cell_type": "code",
   "execution_count": 103,
   "metadata": {
    "colab": {
     "base_uri": "https://localhost:8080/",
     "height": 300
    },
    "id": "0gtMpLVXE6JE",
    "outputId": "602d162c-c3a3-4a03-da42-c0f27f56ba36"
   },
   "outputs": [
    {
     "data": {
      "text/html": [
       "<div>\n",
       "<style scoped>\n",
       "    .dataframe tbody tr th:only-of-type {\n",
       "        vertical-align: middle;\n",
       "    }\n",
       "\n",
       "    .dataframe tbody tr th {\n",
       "        vertical-align: top;\n",
       "    }\n",
       "\n",
       "    .dataframe thead th {\n",
       "        text-align: right;\n",
       "    }\n",
       "</style>\n",
       "<table border=\"1\" class=\"dataframe\">\n",
       "  <thead>\n",
       "    <tr style=\"text-align: right;\">\n",
       "      <th></th>\n",
       "      <th>id</th>\n",
       "      <th>price</th>\n",
       "      <th>year</th>\n",
       "      <th>odometer</th>\n",
       "      <th>county</th>\n",
       "      <th>lat</th>\n",
       "      <th>long</th>\n",
       "    </tr>\n",
       "  </thead>\n",
       "  <tbody>\n",
       "    <tr>\n",
       "      <th>count</th>\n",
       "      <td>4.268800e+05</td>\n",
       "      <td>4.268800e+05</td>\n",
       "      <td>425675.000000</td>\n",
       "      <td>4.224800e+05</td>\n",
       "      <td>0.0</td>\n",
       "      <td>420331.000000</td>\n",
       "      <td>420331.000000</td>\n",
       "    </tr>\n",
       "    <tr>\n",
       "      <th>mean</th>\n",
       "      <td>7.311487e+09</td>\n",
       "      <td>7.519903e+04</td>\n",
       "      <td>2011.235191</td>\n",
       "      <td>9.804333e+04</td>\n",
       "      <td>NaN</td>\n",
       "      <td>38.493940</td>\n",
       "      <td>-94.748599</td>\n",
       "    </tr>\n",
       "    <tr>\n",
       "      <th>std</th>\n",
       "      <td>4.473170e+06</td>\n",
       "      <td>1.218228e+07</td>\n",
       "      <td>9.452120</td>\n",
       "      <td>2.138815e+05</td>\n",
       "      <td>NaN</td>\n",
       "      <td>5.841533</td>\n",
       "      <td>18.365462</td>\n",
       "    </tr>\n",
       "    <tr>\n",
       "      <th>min</th>\n",
       "      <td>7.207408e+09</td>\n",
       "      <td>0.000000e+00</td>\n",
       "      <td>1900.000000</td>\n",
       "      <td>0.000000e+00</td>\n",
       "      <td>NaN</td>\n",
       "      <td>-84.122245</td>\n",
       "      <td>-159.827728</td>\n",
       "    </tr>\n",
       "    <tr>\n",
       "      <th>25%</th>\n",
       "      <td>7.308143e+09</td>\n",
       "      <td>5.900000e+03</td>\n",
       "      <td>2008.000000</td>\n",
       "      <td>3.770400e+04</td>\n",
       "      <td>NaN</td>\n",
       "      <td>34.601900</td>\n",
       "      <td>-111.939847</td>\n",
       "    </tr>\n",
       "    <tr>\n",
       "      <th>50%</th>\n",
       "      <td>7.312621e+09</td>\n",
       "      <td>1.395000e+04</td>\n",
       "      <td>2013.000000</td>\n",
       "      <td>8.554800e+04</td>\n",
       "      <td>NaN</td>\n",
       "      <td>39.150100</td>\n",
       "      <td>-88.432600</td>\n",
       "    </tr>\n",
       "    <tr>\n",
       "      <th>75%</th>\n",
       "      <td>7.315254e+09</td>\n",
       "      <td>2.648575e+04</td>\n",
       "      <td>2017.000000</td>\n",
       "      <td>1.335425e+05</td>\n",
       "      <td>NaN</td>\n",
       "      <td>42.398900</td>\n",
       "      <td>-80.832039</td>\n",
       "    </tr>\n",
       "    <tr>\n",
       "      <th>max</th>\n",
       "      <td>7.317101e+09</td>\n",
       "      <td>3.736929e+09</td>\n",
       "      <td>2022.000000</td>\n",
       "      <td>1.000000e+07</td>\n",
       "      <td>NaN</td>\n",
       "      <td>82.390818</td>\n",
       "      <td>173.885502</td>\n",
       "    </tr>\n",
       "  </tbody>\n",
       "</table>\n",
       "</div>"
      ],
      "text/plain": [
       "                 id         price           year      odometer  county  \\\n",
       "count  4.268800e+05  4.268800e+05  425675.000000  4.224800e+05     0.0   \n",
       "mean   7.311487e+09  7.519903e+04    2011.235191  9.804333e+04     NaN   \n",
       "std    4.473170e+06  1.218228e+07       9.452120  2.138815e+05     NaN   \n",
       "min    7.207408e+09  0.000000e+00    1900.000000  0.000000e+00     NaN   \n",
       "25%    7.308143e+09  5.900000e+03    2008.000000  3.770400e+04     NaN   \n",
       "50%    7.312621e+09  1.395000e+04    2013.000000  8.554800e+04     NaN   \n",
       "75%    7.315254e+09  2.648575e+04    2017.000000  1.335425e+05     NaN   \n",
       "max    7.317101e+09  3.736929e+09    2022.000000  1.000000e+07     NaN   \n",
       "\n",
       "                 lat           long  \n",
       "count  420331.000000  420331.000000  \n",
       "mean       38.493940     -94.748599  \n",
       "std         5.841533      18.365462  \n",
       "min       -84.122245    -159.827728  \n",
       "25%        34.601900    -111.939847  \n",
       "50%        39.150100     -88.432600  \n",
       "75%        42.398900     -80.832039  \n",
       "max        82.390818     173.885502  "
      ]
     },
     "execution_count": 103,
     "metadata": {},
     "output_type": "execute_result"
    }
   ],
   "source": [
    "# statistic information \n",
    "df.describe()"
   ]
  },
  {
   "cell_type": "code",
   "execution_count": 104,
   "metadata": {
    "colab": {
     "base_uri": "https://localhost:8080/"
    },
    "id": "OrzPrBWSFCDb",
    "outputId": "c62f5c99-0c35-4636-9fe7-557929c34772"
   },
   "outputs": [
    {
     "name": "stdout",
     "output_type": "stream",
     "text": [
      "The maximum and minimum car prices\n",
      "3736928711\n",
      "0\n"
     ]
    }
   ],
   "source": [
    "print(\"The maximum and minimum car prices\")\n",
    "print(df['price'].max())\n",
    "print(df['price'].min())"
   ]
  },
  {
   "cell_type": "code",
   "execution_count": 105,
   "metadata": {
    "colab": {
     "base_uri": "https://localhost:8080/"
    },
    "id": "EejFnfRlFK7c",
    "outputId": "86e4915f-1f7d-4631-80a4-d9d50cdf7304"
   },
   "outputs": [
    {
     "name": "stdout",
     "output_type": "stream",
     "text": [
      "Index(['id', 'url', 'region', 'region_url', 'price', 'year', 'manufacturer',\n",
      "       'model', 'condition', 'cylinders', 'fuel', 'odometer', 'title_status',\n",
      "       'transmission', 'VIN', 'drive', 'size', 'type', 'paint_color',\n",
      "       'image_url', 'description', 'county', 'state', 'lat', 'long',\n",
      "       'posting_date'],\n",
      "      dtype='object')\n"
     ]
    }
   ],
   "source": [
    "# show columns\n",
    "print(df.columns)"
   ]
  },
  {
   "cell_type": "code",
   "execution_count": 106,
   "metadata": {
    "colab": {
     "base_uri": "https://localhost:8080/"
    },
    "id": "Ozkd09VqFThG",
    "outputId": "b7af6003-1edf-4082-949e-5128cde442f9"
   },
   "outputs": [
    {
     "data": {
      "text/plain": [
       "id                int64\n",
       "url              object\n",
       "region           object\n",
       "region_url       object\n",
       "price             int64\n",
       "year            float64\n",
       "manufacturer     object\n",
       "model            object\n",
       "condition        object\n",
       "cylinders        object\n",
       "fuel             object\n",
       "odometer        float64\n",
       "title_status     object\n",
       "transmission     object\n",
       "VIN              object\n",
       "drive            object\n",
       "size             object\n",
       "type             object\n",
       "paint_color      object\n",
       "image_url        object\n",
       "description      object\n",
       "county          float64\n",
       "state            object\n",
       "lat             float64\n",
       "long            float64\n",
       "posting_date     object\n",
       "dtype: object"
      ]
     },
     "execution_count": 106,
     "metadata": {},
     "output_type": "execute_result"
    }
   ],
   "source": [
    "# Sanity checking data types\n",
    "df.dtypes"
   ]
  },
  {
   "cell_type": "code",
   "execution_count": 107,
   "metadata": {
    "colab": {
     "base_uri": "https://localhost:8080/"
    },
    "id": "USSHkHb6jXKA",
    "outputId": "7690c2d3-06ac-4647-ffb3-a0b8b0dfd4cc"
   },
   "outputs": [
    {
     "data": {
      "text/plain": [
       "(426880, 26)"
      ]
     },
     "execution_count": 107,
     "metadata": {},
     "output_type": "execute_result"
    }
   ],
   "source": [
    "df.shape"
   ]
  },
  {
   "cell_type": "code",
   "execution_count": 108,
   "metadata": {
    "colab": {
     "base_uri": "https://localhost:8080/"
    },
    "id": "IE_TpUTTjy1n",
    "outputId": "08e36410-7a7c-4909-8539-d8931ae4c81f"
   },
   "outputs": [
    {
     "name": "stdout",
     "output_type": "stream",
     "text": [
      "<class 'pandas.core.frame.DataFrame'>\n",
      "RangeIndex: 426880 entries, 0 to 426879\n",
      "Data columns (total 26 columns):\n",
      " #   Column        Non-Null Count   Dtype  \n",
      "---  ------        --------------   -----  \n",
      " 0   id            426880 non-null  int64  \n",
      " 1   url           426880 non-null  object \n",
      " 2   region        426880 non-null  object \n",
      " 3   region_url    426880 non-null  object \n",
      " 4   price         426880 non-null  int64  \n",
      " 5   year          426880 non-null  object \n",
      " 6   manufacturer  409234 non-null  object \n",
      " 7   model         421603 non-null  object \n",
      " 8   condition     252776 non-null  object \n",
      " 9   cylinders     249202 non-null  object \n",
      " 10  fuel          423867 non-null  object \n",
      " 11  odometer      422480 non-null  float64\n",
      " 12  title_status  418638 non-null  object \n",
      " 13  transmission  424324 non-null  object \n",
      " 14  VIN           265838 non-null  object \n",
      " 15  drive         296313 non-null  object \n",
      " 16  size          120519 non-null  object \n",
      " 17  type          334022 non-null  object \n",
      " 18  paint_color   296677 non-null  object \n",
      " 19  image_url     426812 non-null  object \n",
      " 20  description   426810 non-null  object \n",
      " 21  county        0 non-null       float64\n",
      " 22  state         426880 non-null  object \n",
      " 23  lat           420331 non-null  float64\n",
      " 24  long          420331 non-null  float64\n",
      " 25  posting_date  426812 non-null  object \n",
      "dtypes: float64(4), int64(2), object(20)\n",
      "memory usage: 84.7+ MB\n"
     ]
    }
   ],
   "source": [
    "df['year'] = df.year.astype(str)\n",
    "df.info()"
   ]
  },
  {
   "cell_type": "code",
   "execution_count": 109,
   "metadata": {
    "colab": {
     "base_uri": "https://localhost:8080/",
     "height": 387
    },
    "id": "BbfxWB4Wj4eY",
    "outputId": "e2a07fbe-5988-4284-e374-ab47ba3f67c9"
   },
   "outputs": [
    {
     "data": {
      "text/plain": [
       "(115988, 16)"
      ]
     },
     "execution_count": 109,
     "metadata": {},
     "output_type": "execute_result"
    }
   ],
   "source": [
    "#Dropping possibly unnecessary columns for our analysis\n",
    "\n",
    "drop_cols =['url','image_url','region_url', 'size', 'VIN','county','id','description','lat','long']\n",
    "df.drop(columns=drop_cols , axis=1, inplace=True)\n",
    "\n",
    "df = df.dropna(axis=0, how='any', thresh=None, subset=None, inplace=False)\n",
    "\n",
    "df.shape"
   ]
  },
  {
   "cell_type": "code",
   "execution_count": 110,
   "metadata": {
    "colab": {
     "base_uri": "https://localhost:8080/",
     "height": 206
    },
    "id": "h3u6eBvhkCh5",
    "outputId": "abbd6e0d-3c36-4e28-cc38-5da478ae2e6b"
   },
   "outputs": [
    {
     "data": {
      "text/plain": [
       "<AxesSubplot:>"
      ]
     },
     "execution_count": 110,
     "metadata": {},
     "output_type": "execute_result"
    },
    {
     "data": {
      "image/png": "[encoded data removed]",
      "text/plain": [
       "<Figure size 432x288 with 2 Axes>"
      ]
     },
     "metadata": {
      "needs_background": "light"
     },
     "output_type": "display_data"
    }
   ],
   "source": [
    "category = ['manufacturer','cylinders','fuel','drive','type','year']\n",
    "\n",
    "category_full_list = ['manufacturer','cylinders','fuel','drive','type','paint_color','condition','year','posting_date'\n",
    "           ,'state','model', 'region', 'transmission', 'title_status']\n",
    "\n",
    "numerical = df.drop(category_full_list, axis=1)\n",
    "\n",
    "categorical = df[category]\n",
    "\n",
    "df2 = pd.get_dummies(categorical, drop_first = True, sparse = True)\n",
    "df2.head()\n",
    "\n",
    "df3 = pd.concat([df2, numerical], axis = 1)\n",
    "df2.corr()\n",
    "sns.heatmap(df2.corr(), cmap = 'Blues')"
   ]
  },
  {
   "cell_type": "code",
   "execution_count": 118,
   "metadata": {
    "colab": {
     "base_uri": "https://localhost:8080/",
     "height": 287
    },
    "id": "6qCjrfTbkKVq",
    "outputId": "249546e9-0f38-461f-9f47-9f00c638b042"
   },
   "outputs": [
    {
     "data": {
      "image/png": "[encoded data removed]",
      "text/plain": [
       "<Figure size 432x288 with 2 Axes>"
      ]
     },
     "metadata": {
      "needs_background": "light"
     },
     "output_type": "display_data"
    }
   ],
   "source": [
    "#outlier detection in numerical\n",
    "\n",
    "count = 1\n",
    "for num in numerical:\n",
    "    ax = plt.subplot(2, 1, count)\n",
    "    ax.set_title(num)\n",
    "    ax.boxplot(data = numerical, x=num)\n",
    "    count += 1\n",
    "    \n",
    "plt.show()"
   ]
  },
  {
   "cell_type": "markdown",
   "metadata": {},
   "source": [
    "#### We have a lot of data (>115k). We will work with a smaller sample size to help the processing go faster. In future iterations of model building, we can spend more time curating the data and running models with larger sample sizes."
   ]
  },
  {
   "cell_type": "code",
   "execution_count": 119,
   "metadata": {},
   "outputs": [],
   "source": [
    "df4 = df3.sample(3000)"
   ]
  },
  {
   "cell_type": "markdown",
   "metadata": {},
   "source": [
    "#### We split the data into training, development and testing data."
   ]
  },
  {
   "cell_type": "code",
   "execution_count": 121,
   "metadata": {},
   "outputs": [],
   "source": [
    "from sklearn.model_selection import train_test_split\n",
    "import numpy as np\n",
    "X = df4.loc[:, df4.columns != 'price']\n",
    "Y = df4['price']\n",
    "train_data, test_data, train_labels, test_labels = train_test_split(X, Y, test_size=0.20, random_state=42)\n",
    "dev_data,test_data, dev_labels,test_labels = train_test_split(test_data, test_labels, test_size=0.50, random_state=42)"
   ]
  },
  {
   "cell_type": "code",
   "execution_count": 122,
   "metadata": {},
   "outputs": [
    {
     "data": {
      "text/plain": [
       "(3000, 168)"
      ]
     },
     "execution_count": 122,
     "metadata": {},
     "output_type": "execute_result"
    }
   ],
   "source": [
    "df4.shape"
   ]
  },
  {
   "cell_type": "markdown",
   "metadata": {},
   "source": [
    "### Model building\n",
    "\n",
    "#### The goal of this project is to predict the price of second-hand vehicles sold on Craigslist. This dataset requires a linear regression type model to be run as the outcome variable is continous. We will evaluate our model's efficacy based on its R2 coefficient which explains the model's fit to the data.\n",
    "\n",
    "First we start with a basic Linear Regression."
   ]
  },
  {
   "cell_type": "code",
   "execution_count": 123,
   "metadata": {},
   "outputs": [
    {
     "name": "stdout",
     "output_type": "stream",
     "text": [
      "0.2936957170865713\n"
     ]
    },
    {
     "name": "stderr",
     "output_type": "stream",
     "text": [
      "/Applications/anaconda3/envs/home/lib/python3.8/site-packages/sklearn/utils/validation.py:515: UserWarning: pandas.DataFrame with sparse columns found.It will be converted to a dense numpy array.\n",
      "  warnings.warn(\n",
      "/Applications/anaconda3/envs/home/lib/python3.8/site-packages/sklearn/utils/validation.py:515: UserWarning: pandas.DataFrame with sparse columns found.It will be converted to a dense numpy array.\n",
      "  warnings.warn(\n"
     ]
    }
   ],
   "source": [
    "from sklearn.linear_model import LinearRegression\n",
    "linmod = LinearRegression()\n",
    "linmod.fit(train_data, train_labels)\n",
    "print(linmod.score(dev_data, dev_labels))"
   ]
  },
  {
   "cell_type": "markdown",
   "metadata": {},
   "source": [
    "We then experimented with another type of regressor (SGD – stochastic gradient descent) but did not see good performance. This is probably not the way to go."
   ]
  },
  {
   "cell_type": "code",
   "execution_count": 124,
   "metadata": {},
   "outputs": [
    {
     "name": "stderr",
     "output_type": "stream",
     "text": [
      "/Applications/anaconda3/envs/home/lib/python3.8/site-packages/sklearn/utils/validation.py:515: UserWarning: pandas.DataFrame with sparse columns found.It will be converted to a dense numpy array.\n",
      "  warnings.warn(\n",
      "/Applications/anaconda3/envs/home/lib/python3.8/site-packages/sklearn/utils/validation.py:515: UserWarning: pandas.DataFrame with sparse columns found.It will be converted to a dense numpy array.\n",
      "  warnings.warn(\n"
     ]
    },
    {
     "data": {
      "text/plain": [
       "-1.7435598446813363e+23"
      ]
     },
     "execution_count": 124,
     "metadata": {},
     "output_type": "execute_result"
    }
   ],
   "source": [
    "from sklearn.linear_model import SGDRegressor\n",
    "model = SGDRegressor(max_iter=500,early_stopping=True,learning_rate='adaptive')\n",
    "model.fit(train_data, train_labels)\n",
    "model.score(dev_data,dev_labels)"
   ]
  },
  {
   "cell_type": "markdown",
   "metadata": {},
   "source": [
    "The next regressor we use is the Random Forest Regressor. Performance is a little better here, probably because we are using an ensemble model which takes the average of multiple estimators before making a final decision."
   ]
  },
  {
   "cell_type": "code",
   "execution_count": 125,
   "metadata": {},
   "outputs": [
    {
     "name": "stderr",
     "output_type": "stream",
     "text": [
      "/Applications/anaconda3/envs/home/lib/python3.8/site-packages/sklearn/utils/validation.py:515: UserWarning: pandas.DataFrame with sparse columns found.It will be converted to a dense numpy array.\n",
      "  warnings.warn(\n",
      "/Applications/anaconda3/envs/home/lib/python3.8/site-packages/sklearn/utils/validation.py:515: UserWarning: pandas.DataFrame with sparse columns found.It will be converted to a dense numpy array.\n",
      "  warnings.warn(\n"
     ]
    },
    {
     "data": {
      "text/plain": [
       "0.39042809962268876"
      ]
     },
     "execution_count": 125,
     "metadata": {},
     "output_type": "execute_result"
    }
   ],
   "source": [
    "from sklearn.ensemble import RandomForestRegressor\n",
    "\n",
    "# define used regressor\n",
    "forest=RandomForestRegressor(n_estimators=20,\n",
    "                             max_depth=10,\n",
    "                             criterion='mse',\n",
    "                            )\n",
    "\n",
    "# train model\n",
    "forest.fit(train_data,train_labels)\n",
    "forest.score(dev_data,dev_labels)"
   ]
  },
  {
   "cell_type": "markdown",
   "metadata": {},
   "source": [
    "### Evaluate results and Future Work\n",
    "\n",
    "So far our R2 scores are quite low. For the problem we are trying to solve, we are satisfied with the model types we are using (Linear Regression/Random Forest) but think more preprocessing may be necessary to fully capture the trends present in the data.\n",
    "We plan to look more closely at dummy variables (OneHotEncoding) for categorical variables, figure out how to work in features with really diverse answers, and maybe do some kind of text processing to account for that. An example of a feature that would fit this description is the model of the car. There are over 11000 different car models in the dataset which does not make sense and needs some text cleaning to bring it down to a more reasonable number.\n",
    "Once this preprocessing is accomplished, we expect to see higher R2 score and better confidence in our model's ability to predict prices of resold cars."
   ]
  },
  {
   "cell_type": "code",
   "execution_count": null,
   "metadata": {},
   "outputs": [],
   "source": []
  }
 ],
 "metadata": {
  "colab": {
   "name": "Untitled1.ipynb",
   "provenance": []
  },
  "kernelspec": {
   "display_name": "Python 3 (ipykernel)",
   "language": "python",
   "name": "python3"
  },
  "language_info": {
   "codemirror_mode": {
    "name": "ipython",
    "version": 3
   },
   "file_extension": ".py",
   "mimetype": "text/x-python",
   "name": "python",
   "nbconvert_exporter": "python",
   "pygments_lexer": "ipython3",
   "version": "3.8.8"
  }
 },
 "nbformat": 4,
 "nbformat_minor": 1
}
